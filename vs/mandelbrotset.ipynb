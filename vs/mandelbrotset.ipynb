{
 "cells": [
  {
   "cell_type": "code",
   "execution_count": 24,
   "source": [
    "c=-.5-.5j\r\n",
    "print(abs(c))\r\n",
    "z=0+0j\r\n",
    "i=0\r\n",
    "while(i<10):\r\n",
    "    z=z*z+c\r\n",
    "    print(z,abs(z))\r\n",
    "    i=i+1\r\n"
   ],
   "outputs": [
    {
     "output_type": "stream",
     "name": "stdout",
     "text": [
      "0.7071067811865476\n",
      "(-0.5-0.5j) 0.7071067811865476\n",
      "(-0.5+0j) 0.5\n",
      "(-0.25-0.5j) 0.5590169943749475\n",
      "(-0.6875-0.25j) 0.7315437444199766\n",
      "(-0.08984375-0.15625j) 0.180238624922802\n",
      "(-0.5163421630859375-0.471923828125j) 0.6995150669802755\n",
      "(-0.45610287017188966-0.012651659548282623j) 0.45627830615575105\n",
      "(-0.29213023631029-0.4884590835351814j) 0.5691505523626725\n",
      "(-0.6532522013213234-0.21461266499791953j) 0.6876023811103799\n",
      "(-0.11932015744635432-0.21960760831734666j) 0.24992959329356723\n"
     ]
    }
   ],
   "metadata": {}
  }
 ],
 "metadata": {
  "orig_nbformat": 4,
  "language_info": {
   "name": "python",
   "version": "3.8.8",
   "mimetype": "text/x-python",
   "codemirror_mode": {
    "name": "ipython",
    "version": 3
   },
   "pygments_lexer": "ipython3",
   "nbconvert_exporter": "python",
   "file_extension": ".py"
  },
  "kernelspec": {
   "name": "python3",
   "display_name": "Python 3.8.8 64-bit ('base': conda)"
  },
  "interpreter": {
   "hash": "b3ba2566441a7c06988d0923437866b63cedc61552a5af99d1f4fb67d367b25f"
  }
 },
 "nbformat": 4,
 "nbformat_minor": 2
}